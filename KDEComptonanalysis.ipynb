{
  "nbformat": 4,
  "nbformat_minor": 0,
  "metadata": {
    "colab": {
      "name": "KDEComptonanalysis.ipynb",
      "provenance": [],
      "authorship_tag": "ABX9TyMK082cPQzX1e4vrjrOfA0K",
      "include_colab_link": true
    },
    "kernelspec": {
      "name": "python3",
      "display_name": "Python 3"
    }
  },
  "cells": [
    {
      "cell_type": "markdown",
      "metadata": {
        "id": "view-in-github",
        "colab_type": "text"
      },
      "source": [
        "<a href=\"https://colab.research.google.com/github/scandey/gammakde/blob/main/KDEComptonanalysis.ipynb\" target=\"_parent\"><img src=\"https://colab.research.google.com/assets/colab-badge.svg\" alt=\"Open In Colab\"/></a>"
      ]
    },
    {
      "cell_type": "code",
      "metadata": {
        "id": "EJpRr8gmPqNU"
      },
      "source": [
        "import numpy as np\n",
        "import matplotlib.pyplot as plt\n",
        "%matplotlib inline\n",
        "import seaborn as sns\n",
        "sns.set(rc={'figure.figsize':(12,8)})\n",
        "sns.set_context(\"poster\")\n",
        "!pip install KDEpy"
      ],
      "execution_count": null,
      "outputs": []
    },
    {
      "cell_type": "code",
      "metadata": {
        "id": "sNQNegOqPyk0"
      },
      "source": [
        "with open('CesiumSheetTest.inc2.id1.tra','r') as fh:\n",
        "     all_lines = fh.readlines()\n",
        "\n",
        "energies = []\n",
        "for line in all_lines:\n",
        "    if line[:2] != 'PE':\n",
        "        continue\n",
        "    else:\n",
        "        [PE,val] = line.split()\n",
        "        energies.append(float(val))\n",
        "print(energies)"
      ],
      "execution_count": null,
      "outputs": []
    },
    {
      "cell_type": "code",
      "metadata": {
        "id": "cL_H8xDZPvNA"
      },
      "source": [
        "from KDEpy import FFTKDE\n",
        "sns.set_style(\"ticks\")\n",
        "\n",
        "cleandata = np.array(energies)\n",
        "data = cleandata[cleandata > 100 ] # remove everything under 100\n",
        "points = len(data)\n",
        "kde = FFTKDE(bw=10)\n",
        "x, y = kde.fit(data)(points)  # Two-step proceudure to get bw\n",
        "fig, ax1 = plt.subplots()\n",
        "color = 'R'\n",
        "ax1.set_xlabel('Energy (keV)')\n",
        "ax1.plot(x, y, color='firebrick', label='KDE')\n",
        "ax1.set_ylabel('Normalized KDE', color='firebrick')\n",
        "ax2 = ax1.twinx()  \n",
        "ax2.hist(data, alpha=0.3, color='navy',label='Histogram')\n",
        "ax2.set_ylabel('Count',color='navy')\n",
        "plt.title('MEGAlib simulation KDE and histogram')\n",
        "red_patch = mpatches.Patch(color='firebrick', label='KDE curve')\n",
        "blue_patch = mpatches.Patch(color='mediumpurple', label='Histogram')\n",
        "plt.legend(handles=[red_patch,blue_patch])\n",
        "plt.show()"
      ],
      "execution_count": null,
      "outputs": []
    },
    {
      "cell_type": "code",
      "metadata": {
        "id": "bVjgeYOpPxlk"
      },
      "source": [
        "from scipy import signal\n",
        "from KDEpy import FFTKDE\n",
        "import matplotlib.patches as mpatches\n",
        "sns.set_style(\"ticks\")\n",
        "\n",
        "cleandata = np.array(energies)\n",
        "data = cleandata[cleandata > 100 ] # remove everything under 100 to prevent boundary condition issues\n",
        "points = len(data)\n",
        "kde = FFTKDE(bw=10)\n",
        "x, y = kde.fit(data)(points)\n",
        "fig, ax1 = plt.subplots()\n",
        "ax1.set_xlabel('Energy (keV)')\n",
        "ax1.plot(x, y, label='FFTKDE', color='firebrick')\n",
        "ax1.set_ylabel('Normalized KDE', color='firebrick')\n",
        "\n",
        "ax2 = ax1.twinx() \n",
        "dx = x[1]-x[0]\n",
        "dydx = np.gradient(y, dx)\n",
        "ax2.plot(x,dydx, color='navy')\n",
        "ax2.set_ylabel('Gradient of KDE',color='navy')\n",
        "\n",
        "red_patch = mpatches.Patch(color='firebrick', label='KDE curve')\n",
        "blue_patch = mpatches.Patch(color='navy', label='Gradient of KDE')\n",
        "plt.legend(handles=[red_patch,blue_patch])\n",
        "\n",
        "peaks, _ = signal.find_peaks(-dydx, height = 0.5e-5, distance=100000)\n",
        "plt.vlines(x=x[peaks], ymin = -2.5e-5, ymax = 0, color='purple')\n",
        "plt.text(400, -2e-5, '506.5 keV', horizontalalignment='center', verticalalignment='center',color='purple')\n",
        "plt.title('MEGAlib Simulation KDE and Gradient')\n",
        "print(x[peaks])"
      ],
      "execution_count": null,
      "outputs": []
    }
  ]
}